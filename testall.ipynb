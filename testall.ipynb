{
 "cells": [
  {
   "cell_type": "code",
   "execution_count": 4,
   "metadata": {},
   "outputs": [],
   "source": [
    "import jieba\n",
    "from IPython import get_ipython\n",
    "from gensim.models import word2vec"
   ]
  },
  {
   "cell_type": "code",
   "execution_count": 5,
   "metadata": {},
   "outputs": [],
   "source": [
    "fileAllLines=[]\n",
    "with open('test.txt','r',encoding='utf-8') as fileLine:\n",
    "    for line in fileLine:\n",
    "        #print(line)\n",
    "        fileAllLines.append(line)"
   ]
  },
  {
   "cell_type": "code",
   "execution_count": 6,
   "metadata": {},
   "outputs": [
    {
     "name": "stderr",
     "output_type": "stream",
     "text": [
      "Building prefix dict from the default dictionary ...\n",
      "Loading model from cache C:\\Users\\BIGDAT~1\\AppData\\Local\\Temp\\jieba.cache\n",
      "Loading model cost 0.753 seconds.\n",
      "Prefix dict has been built successfully.\n",
      "'rm' 不是內部或外部命令、可執行的程式或批次檔。\n"
     ]
    }
   ],
   "source": [
    "seg=[]\n",
    "for i in range(len(fileAllLines)):\n",
    "    seg.append([' '.join(list(jieba.cut(fileAllLines[i])))])\n",
    "get_ipython().system('rm segDone.txt')"
   ]
  },
  {
   "cell_type": "code",
   "execution_count": 7,
   "metadata": {},
   "outputs": [],
   "source": [
    "segSaveFile = 'SegDone.txt'\n",
    "with open(segSaveFile,'wb') as saveFile:\n",
    "    for i in range (len(seg)):\n",
    "        saveFile.write(seg[i][0].encode('utf-8'))\n",
    "        saveFile.write('\\n'.encode())"
   ]
  },
  {
   "cell_type": "code",
   "execution_count": 16,
   "metadata": {},
   "outputs": [],
   "source": [
    "sentences=word2vec.LineSentence('SegDone.txt')\n",
    "model = word2vec.Word2Vec(sentences,size=150,iter=1000,sg=0,workers=3)"
   ]
  },
  {
   "cell_type": "code",
   "execution_count": 13,
   "metadata": {},
   "outputs": [
    {
     "data": {
      "text/plain": [
       "1026750"
      ]
     },
     "execution_count": 13,
     "metadata": {},
     "output_type": "execute_result"
    }
   ],
   "source": [
    "model.save('word2vec.model')\n",
    "model.corpus_total_words"
   ]
  },
  {
   "cell_type": "code",
   "execution_count": 14,
   "metadata": {},
   "outputs": [
    {
     "name": "stderr",
     "output_type": "stream",
     "text": [
      "C:\\ProgramData\\Anaconda3\\lib\\site-packages\\ipykernel_launcher.py:1: DeprecationWarning: Call to deprecated `most_similar` (Method will be removed in 4.0.0, use self.wv.most_similar() instead).\n",
      "  \"\"\"Entry point for launching an IPython kernel.\n"
     ]
    },
    {
     "data": {
      "text/plain": [
       "[('漢', 0.3667387068271637),\n",
       " ('bonJOIE', 0.36284351348876953),\n",
       " ('不凡', 0.36003607511520386),\n",
       " ('搞不懂', 0.32414889335632324),\n",
       " ('俐落', 0.3207874000072479),\n",
       " ('窗簾種', 0.320223867893219),\n",
       " ('全室', 0.3122749924659729),\n",
       " ('時時', 0.3115890920162201),\n",
       " ('柳', 0.31096354126930237),\n",
       " ('直屬', 0.30395859479904175)]"
      ]
     },
     "execution_count": 14,
     "metadata": {},
     "output_type": "execute_result"
    }
   ],
   "source": [
    "model.most_similar('現代風')"
   ]
  },
  {
   "cell_type": "code",
   "execution_count": 15,
   "metadata": {},
   "outputs": [
    {
     "name": "stderr",
     "output_type": "stream",
     "text": [
      "C:\\ProgramData\\Anaconda3\\lib\\site-packages\\ipykernel_launcher.py:1: DeprecationWarning: Call to deprecated `similar_by_word` (Method will be removed in 4.0.0, use self.wv.similar_by_word() instead).\n",
      "  \"\"\"Entry point for launching an IPython kernel.\n"
     ]
    },
    {
     "data": {
      "text/plain": [
       "[('漢', 0.3667387068271637),\n",
       " ('bonJOIE', 0.36284351348876953),\n",
       " ('不凡', 0.36003607511520386),\n",
       " ('搞不懂', 0.32414889335632324),\n",
       " ('俐落', 0.3207874000072479),\n",
       " ('窗簾種', 0.320223867893219),\n",
       " ('全室', 0.3122749924659729),\n",
       " ('時時', 0.3115890920162201),\n",
       " ('柳', 0.31096354126930237),\n",
       " ('直屬', 0.30395859479904175)]"
      ]
     },
     "execution_count": 15,
     "metadata": {},
     "output_type": "execute_result"
    }
   ],
   "source": [
    "model.similar_by_word('現代風')"
   ]
  },
  {
   "cell_type": "code",
   "execution_count": null,
   "metadata": {},
   "outputs": [],
   "source": []
  }
 ],
 "metadata": {
  "kernelspec": {
   "display_name": "Python 3",
   "language": "python",
   "name": "python3"
  },
  "language_info": {
   "codemirror_mode": {
    "name": "ipython",
    "version": 3
   },
   "file_extension": ".py",
   "mimetype": "text/x-python",
   "name": "python",
   "nbconvert_exporter": "python",
   "pygments_lexer": "ipython3",
   "version": "3.7.6"
  }
 },
 "nbformat": 4,
 "nbformat_minor": 4
}
