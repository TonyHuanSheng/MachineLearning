{
 "cells": [
  {
   "cell_type": "code",
   "execution_count": 1,
   "metadata": {},
   "outputs": [],
   "source": [
    "from sklearn.naive_bayes import GaussianNB #高斯貝式分類器\n",
    "from sklearn.naive_bayes import MultinomialNB #多像式貝式分類器\n",
    "from sklearn.naive_bayes import BernoulliNB #伯努力貝氏分類器\n",
    "from sklearn import datasets\n",
    "from sklearn.model_selection import train_test_split\n",
    "import matplotlib.pyplot as plt\n",
    "import numpy as np\n",
    "import pandas as pd\n",
    "%matplotlib inline"
   ]
  },
  {
   "cell_type": "code",
   "execution_count": 2,
   "metadata": {},
   "outputs": [],
   "source": [
    "iris=datasets.load_iris()"
   ]
  },
  {
   "cell_type": "code",
   "execution_count": 3,
   "metadata": {},
   "outputs": [
    {
     "data": {
      "text/plain": [
       "{'data': array([[5.1, 3.5, 1.4, 0.2],\n",
       "        [4.9, 3. , 1.4, 0.2],\n",
       "        [4.7, 3.2, 1.3, 0.2],\n",
       "        [4.6, 3.1, 1.5, 0.2],\n",
       "        [5. , 3.6, 1.4, 0.2],\n",
       "        [5.4, 3.9, 1.7, 0.4],\n",
       "        [4.6, 3.4, 1.4, 0.3],\n",
       "        [5. , 3.4, 1.5, 0.2],\n",
       "        [4.4, 2.9, 1.4, 0.2],\n",
       "        [4.9, 3.1, 1.5, 0.1],\n",
       "        [5.4, 3.7, 1.5, 0.2],\n",
       "        [4.8, 3.4, 1.6, 0.2],\n",
       "        [4.8, 3. , 1.4, 0.1],\n",
       "        [4.3, 3. , 1.1, 0.1],\n",
       "        [5.8, 4. , 1.2, 0.2],\n",
       "        [5.7, 4.4, 1.5, 0.4],\n",
       "        [5.4, 3.9, 1.3, 0.4],\n",
       "        [5.1, 3.5, 1.4, 0.3],\n",
       "        [5.7, 3.8, 1.7, 0.3],\n",
       "        [5.1, 3.8, 1.5, 0.3],\n",
       "        [5.4, 3.4, 1.7, 0.2],\n",
       "        [5.1, 3.7, 1.5, 0.4],\n",
       "        [4.6, 3.6, 1. , 0.2],\n",
       "        [5.1, 3.3, 1.7, 0.5],\n",
       "        [4.8, 3.4, 1.9, 0.2],\n",
       "        [5. , 3. , 1.6, 0.2],\n",
       "        [5. , 3.4, 1.6, 0.4],\n",
       "        [5.2, 3.5, 1.5, 0.2],\n",
       "        [5.2, 3.4, 1.4, 0.2],\n",
       "        [4.7, 3.2, 1.6, 0.2],\n",
       "        [4.8, 3.1, 1.6, 0.2],\n",
       "        [5.4, 3.4, 1.5, 0.4],\n",
       "        [5.2, 4.1, 1.5, 0.1],\n",
       "        [5.5, 4.2, 1.4, 0.2],\n",
       "        [4.9, 3.1, 1.5, 0.2],\n",
       "        [5. , 3.2, 1.2, 0.2],\n",
       "        [5.5, 3.5, 1.3, 0.2],\n",
       "        [4.9, 3.6, 1.4, 0.1],\n",
       "        [4.4, 3. , 1.3, 0.2],\n",
       "        [5.1, 3.4, 1.5, 0.2],\n",
       "        [5. , 3.5, 1.3, 0.3],\n",
       "        [4.5, 2.3, 1.3, 0.3],\n",
       "        [4.4, 3.2, 1.3, 0.2],\n",
       "        [5. , 3.5, 1.6, 0.6],\n",
       "        [5.1, 3.8, 1.9, 0.4],\n",
       "        [4.8, 3. , 1.4, 0.3],\n",
       "        [5.1, 3.8, 1.6, 0.2],\n",
       "        [4.6, 3.2, 1.4, 0.2],\n",
       "        [5.3, 3.7, 1.5, 0.2],\n",
       "        [5. , 3.3, 1.4, 0.2],\n",
       "        [7. , 3.2, 4.7, 1.4],\n",
       "        [6.4, 3.2, 4.5, 1.5],\n",
       "        [6.9, 3.1, 4.9, 1.5],\n",
       "        [5.5, 2.3, 4. , 1.3],\n",
       "        [6.5, 2.8, 4.6, 1.5],\n",
       "        [5.7, 2.8, 4.5, 1.3],\n",
       "        [6.3, 3.3, 4.7, 1.6],\n",
       "        [4.9, 2.4, 3.3, 1. ],\n",
       "        [6.6, 2.9, 4.6, 1.3],\n",
       "        [5.2, 2.7, 3.9, 1.4],\n",
       "        [5. , 2. , 3.5, 1. ],\n",
       "        [5.9, 3. , 4.2, 1.5],\n",
       "        [6. , 2.2, 4. , 1. ],\n",
       "        [6.1, 2.9, 4.7, 1.4],\n",
       "        [5.6, 2.9, 3.6, 1.3],\n",
       "        [6.7, 3.1, 4.4, 1.4],\n",
       "        [5.6, 3. , 4.5, 1.5],\n",
       "        [5.8, 2.7, 4.1, 1. ],\n",
       "        [6.2, 2.2, 4.5, 1.5],\n",
       "        [5.6, 2.5, 3.9, 1.1],\n",
       "        [5.9, 3.2, 4.8, 1.8],\n",
       "        [6.1, 2.8, 4. , 1.3],\n",
       "        [6.3, 2.5, 4.9, 1.5],\n",
       "        [6.1, 2.8, 4.7, 1.2],\n",
       "        [6.4, 2.9, 4.3, 1.3],\n",
       "        [6.6, 3. , 4.4, 1.4],\n",
       "        [6.8, 2.8, 4.8, 1.4],\n",
       "        [6.7, 3. , 5. , 1.7],\n",
       "        [6. , 2.9, 4.5, 1.5],\n",
       "        [5.7, 2.6, 3.5, 1. ],\n",
       "        [5.5, 2.4, 3.8, 1.1],\n",
       "        [5.5, 2.4, 3.7, 1. ],\n",
       "        [5.8, 2.7, 3.9, 1.2],\n",
       "        [6. , 2.7, 5.1, 1.6],\n",
       "        [5.4, 3. , 4.5, 1.5],\n",
       "        [6. , 3.4, 4.5, 1.6],\n",
       "        [6.7, 3.1, 4.7, 1.5],\n",
       "        [6.3, 2.3, 4.4, 1.3],\n",
       "        [5.6, 3. , 4.1, 1.3],\n",
       "        [5.5, 2.5, 4. , 1.3],\n",
       "        [5.5, 2.6, 4.4, 1.2],\n",
       "        [6.1, 3. , 4.6, 1.4],\n",
       "        [5.8, 2.6, 4. , 1.2],\n",
       "        [5. , 2.3, 3.3, 1. ],\n",
       "        [5.6, 2.7, 4.2, 1.3],\n",
       "        [5.7, 3. , 4.2, 1.2],\n",
       "        [5.7, 2.9, 4.2, 1.3],\n",
       "        [6.2, 2.9, 4.3, 1.3],\n",
       "        [5.1, 2.5, 3. , 1.1],\n",
       "        [5.7, 2.8, 4.1, 1.3],\n",
       "        [6.3, 3.3, 6. , 2.5],\n",
       "        [5.8, 2.7, 5.1, 1.9],\n",
       "        [7.1, 3. , 5.9, 2.1],\n",
       "        [6.3, 2.9, 5.6, 1.8],\n",
       "        [6.5, 3. , 5.8, 2.2],\n",
       "        [7.6, 3. , 6.6, 2.1],\n",
       "        [4.9, 2.5, 4.5, 1.7],\n",
       "        [7.3, 2.9, 6.3, 1.8],\n",
       "        [6.7, 2.5, 5.8, 1.8],\n",
       "        [7.2, 3.6, 6.1, 2.5],\n",
       "        [6.5, 3.2, 5.1, 2. ],\n",
       "        [6.4, 2.7, 5.3, 1.9],\n",
       "        [6.8, 3. , 5.5, 2.1],\n",
       "        [5.7, 2.5, 5. , 2. ],\n",
       "        [5.8, 2.8, 5.1, 2.4],\n",
       "        [6.4, 3.2, 5.3, 2.3],\n",
       "        [6.5, 3. , 5.5, 1.8],\n",
       "        [7.7, 3.8, 6.7, 2.2],\n",
       "        [7.7, 2.6, 6.9, 2.3],\n",
       "        [6. , 2.2, 5. , 1.5],\n",
       "        [6.9, 3.2, 5.7, 2.3],\n",
       "        [5.6, 2.8, 4.9, 2. ],\n",
       "        [7.7, 2.8, 6.7, 2. ],\n",
       "        [6.3, 2.7, 4.9, 1.8],\n",
       "        [6.7, 3.3, 5.7, 2.1],\n",
       "        [7.2, 3.2, 6. , 1.8],\n",
       "        [6.2, 2.8, 4.8, 1.8],\n",
       "        [6.1, 3. , 4.9, 1.8],\n",
       "        [6.4, 2.8, 5.6, 2.1],\n",
       "        [7.2, 3. , 5.8, 1.6],\n",
       "        [7.4, 2.8, 6.1, 1.9],\n",
       "        [7.9, 3.8, 6.4, 2. ],\n",
       "        [6.4, 2.8, 5.6, 2.2],\n",
       "        [6.3, 2.8, 5.1, 1.5],\n",
       "        [6.1, 2.6, 5.6, 1.4],\n",
       "        [7.7, 3. , 6.1, 2.3],\n",
       "        [6.3, 3.4, 5.6, 2.4],\n",
       "        [6.4, 3.1, 5.5, 1.8],\n",
       "        [6. , 3. , 4.8, 1.8],\n",
       "        [6.9, 3.1, 5.4, 2.1],\n",
       "        [6.7, 3.1, 5.6, 2.4],\n",
       "        [6.9, 3.1, 5.1, 2.3],\n",
       "        [5.8, 2.7, 5.1, 1.9],\n",
       "        [6.8, 3.2, 5.9, 2.3],\n",
       "        [6.7, 3.3, 5.7, 2.5],\n",
       "        [6.7, 3. , 5.2, 2.3],\n",
       "        [6.3, 2.5, 5. , 1.9],\n",
       "        [6.5, 3. , 5.2, 2. ],\n",
       "        [6.2, 3.4, 5.4, 2.3],\n",
       "        [5.9, 3. , 5.1, 1.8]]),\n",
       " 'target': array([0, 0, 0, 0, 0, 0, 0, 0, 0, 0, 0, 0, 0, 0, 0, 0, 0, 0, 0, 0, 0, 0,\n",
       "        0, 0, 0, 0, 0, 0, 0, 0, 0, 0, 0, 0, 0, 0, 0, 0, 0, 0, 0, 0, 0, 0,\n",
       "        0, 0, 0, 0, 0, 0, 1, 1, 1, 1, 1, 1, 1, 1, 1, 1, 1, 1, 1, 1, 1, 1,\n",
       "        1, 1, 1, 1, 1, 1, 1, 1, 1, 1, 1, 1, 1, 1, 1, 1, 1, 1, 1, 1, 1, 1,\n",
       "        1, 1, 1, 1, 1, 1, 1, 1, 1, 1, 1, 1, 2, 2, 2, 2, 2, 2, 2, 2, 2, 2,\n",
       "        2, 2, 2, 2, 2, 2, 2, 2, 2, 2, 2, 2, 2, 2, 2, 2, 2, 2, 2, 2, 2, 2,\n",
       "        2, 2, 2, 2, 2, 2, 2, 2, 2, 2, 2, 2, 2, 2, 2, 2, 2, 2]),\n",
       " 'target_names': array(['setosa', 'versicolor', 'virginica'], dtype='<U10'),\n",
       " 'DESCR': '.. _iris_dataset:\\n\\nIris plants dataset\\n--------------------\\n\\n**Data Set Characteristics:**\\n\\n    :Number of Instances: 150 (50 in each of three classes)\\n    :Number of Attributes: 4 numeric, predictive attributes and the class\\n    :Attribute Information:\\n        - sepal length in cm\\n        - sepal width in cm\\n        - petal length in cm\\n        - petal width in cm\\n        - class:\\n                - Iris-Setosa\\n                - Iris-Versicolour\\n                - Iris-Virginica\\n                \\n    :Summary Statistics:\\n\\n    ============== ==== ==== ======= ===== ====================\\n                    Min  Max   Mean    SD   Class Correlation\\n    ============== ==== ==== ======= ===== ====================\\n    sepal length:   4.3  7.9   5.84   0.83    0.7826\\n    sepal width:    2.0  4.4   3.05   0.43   -0.4194\\n    petal length:   1.0  6.9   3.76   1.76    0.9490  (high!)\\n    petal width:    0.1  2.5   1.20   0.76    0.9565  (high!)\\n    ============== ==== ==== ======= ===== ====================\\n\\n    :Missing Attribute Values: None\\n    :Class Distribution: 33.3% for each of 3 classes.\\n    :Creator: R.A. Fisher\\n    :Donor: Michael Marshall (MARSHALL%PLU@io.arc.nasa.gov)\\n    :Date: July, 1988\\n\\nThe famous Iris database, first used by Sir R.A. Fisher. The dataset is taken\\nfrom Fisher\\'s paper. Note that it\\'s the same as in R, but not as in the UCI\\nMachine Learning Repository, which has two wrong data points.\\n\\nThis is perhaps the best known database to be found in the\\npattern recognition literature.  Fisher\\'s paper is a classic in the field and\\nis referenced frequently to this day.  (See Duda & Hart, for example.)  The\\ndata set contains 3 classes of 50 instances each, where each class refers to a\\ntype of iris plant.  One class is linearly separable from the other 2; the\\nlatter are NOT linearly separable from each other.\\n\\n.. topic:: References\\n\\n   - Fisher, R.A. \"The use of multiple measurements in taxonomic problems\"\\n     Annual Eugenics, 7, Part II, 179-188 (1936); also in \"Contributions to\\n     Mathematical Statistics\" (John Wiley, NY, 1950).\\n   - Duda, R.O., & Hart, P.E. (1973) Pattern Classification and Scene Analysis.\\n     (Q327.D83) John Wiley & Sons.  ISBN 0-471-22361-1.  See page 218.\\n   - Dasarathy, B.V. (1980) \"Nosing Around the Neighborhood: A New System\\n     Structure and Classification Rule for Recognition in Partially Exposed\\n     Environments\".  IEEE Transactions on Pattern Analysis and Machine\\n     Intelligence, Vol. PAMI-2, No. 1, 67-71.\\n   - Gates, G.W. (1972) \"The Reduced Nearest Neighbor Rule\".  IEEE Transactions\\n     on Information Theory, May 1972, 431-433.\\n   - See also: 1988 MLC Proceedings, 54-64.  Cheeseman et al\"s AUTOCLASS II\\n     conceptual clustering system finds 3 classes in the data.\\n   - Many, many more ...',\n",
       " 'feature_names': ['sepal length (cm)',\n",
       "  'sepal width (cm)',\n",
       "  'petal length (cm)',\n",
       "  'petal width (cm)'],\n",
       " 'filename': 'C:\\\\ProgramData\\\\Anaconda3\\\\lib\\\\site-packages\\\\sklearn\\\\datasets\\\\data\\\\iris.csv'}"
      ]
     },
     "execution_count": 3,
     "metadata": {},
     "output_type": "execute_result"
    }
   ],
   "source": [
    "iris"
   ]
  },
  {
   "cell_type": "code",
   "execution_count": 4,
   "metadata": {},
   "outputs": [],
   "source": [
    "X=iris.data\n",
    "y=iris.target"
   ]
  },
  {
   "cell_type": "code",
   "execution_count": 5,
   "metadata": {},
   "outputs": [],
   "source": [
    "X_train,X_test,y_train,y_test=train_test_split(X,y,test_size=0.3)"
   ]
  },
  {
   "cell_type": "markdown",
   "metadata": {},
   "source": [
    "# Gaussian Naive Bayes\n",
    "主要用於連續變數，比方說特徵長度為幾公分、重量為幾公斤等等。\n",
    "$$ P(X_j|Y_i)=\\frac{1}{\\sqrt{2\\pi\\sigma_{Y_i}^2}} exp(-\\frac{(X_j-\\mu_{Y_i})^2}{2\\sigma_{Y_i}^{2}})$$"
   ]
  },
  {
   "cell_type": "code",
   "execution_count": 6,
   "metadata": {},
   "outputs": [
    {
     "data": {
      "text/plain": [
       "array([2, 2, 2, 2, 1, 1, 0, 1, 0, 0, 2, 0, 1, 0, 0, 0, 2, 1, 1, 1, 0, 1,\n",
       "       0, 2, 2, 1, 0, 2, 1, 1, 0, 1, 2, 0, 2, 0, 0, 1, 1, 0, 0, 2, 1, 0,\n",
       "       1])"
      ]
     },
     "execution_count": 6,
     "metadata": {},
     "output_type": "execute_result"
    }
   ],
   "source": [
    "modelg=GaussianNB()\n",
    "modelg.fit(X_train,y_train)\n",
    "modelg.predict(X_test)"
   ]
  },
  {
   "cell_type": "code",
   "execution_count": 7,
   "metadata": {},
   "outputs": [
    {
     "data": {
      "text/plain": [
       "array([[5.99054036e-135, 1.70149305e-002, 9.82985069e-001],\n",
       "       [3.59318950e-182, 7.56719444e-007, 9.99999243e-001],\n",
       "       [1.09335661e-234, 2.96613386e-012, 1.00000000e+000],\n",
       "       [7.71997428e-121, 6.63461469e-002, 9.33653853e-001],\n",
       "       [1.17131930e-098, 6.97319586e-001, 3.02680414e-001],\n",
       "       [1.94583828e-049, 9.99979112e-001, 2.08875450e-005],\n",
       "       [1.00000000e+000, 4.79708975e-017, 2.59248946e-026],\n",
       "       [1.87433131e-060, 9.99966524e-001, 3.34755217e-005],\n",
       "       [1.00000000e+000, 1.82638859e-013, 3.20125409e-022],\n",
       "       [1.00000000e+000, 8.17337488e-017, 6.13473838e-026],\n",
       "       [7.82620635e-115, 1.23594696e-001, 8.76405304e-001],\n",
       "       [1.00000000e+000, 1.93939739e-016, 1.15362596e-025],\n",
       "       [4.34560782e-070, 9.99812522e-001, 1.87477843e-004],\n",
       "       [1.00000000e+000, 2.65075740e-018, 1.18241378e-027],\n",
       "       [1.00000000e+000, 1.85431881e-015, 6.08652788e-025],\n",
       "       [1.00000000e+000, 2.88573009e-016, 5.31943864e-026],\n",
       "       [1.34074686e-172, 2.98820466e-004, 9.99701180e-001],\n",
       "       [8.72317651e-091, 9.21166062e-001, 7.88339383e-002],\n",
       "       [1.64454117e-075, 9.98456559e-001, 1.54344129e-003],\n",
       "       [3.62486315e-092, 9.95865304e-001, 4.13469594e-003],\n",
       "       [1.00000000e+000, 1.44989917e-016, 8.59399423e-026],\n",
       "       [9.84977552e-088, 9.91034826e-001, 8.96517352e-003],\n",
       "       [1.00000000e+000, 1.09296582e-016, 6.59816668e-026],\n",
       "       [6.45143651e-193, 8.75520744e-009, 9.99999991e-001],\n",
       "       [3.64578318e-143, 2.71694541e-004, 9.99728305e-001],\n",
       "       [1.16539790e-031, 9.99999949e-001, 5.05963709e-008],\n",
       "       [1.00000000e+000, 1.10313404e-014, 4.86664488e-024],\n",
       "       [6.02364610e-153, 1.06392476e-003, 9.98936075e-001],\n",
       "       [7.38995707e-090, 9.78649166e-001, 2.13508340e-002],\n",
       "       [5.15707838e-096, 9.80037607e-001, 1.99623934e-002],\n",
       "       [1.00000000e+000, 1.79419834e-016, 1.67459040e-025],\n",
       "       [2.60857392e-088, 9.97043709e-001, 2.95629098e-003],\n",
       "       [8.19021305e-258, 5.77317506e-012, 1.00000000e+000],\n",
       "       [1.00000000e+000, 4.85915674e-016, 1.42440731e-025],\n",
       "       [4.93170715e-187, 4.14868662e-006, 9.99995851e-001],\n",
       "       [1.00000000e+000, 7.44081904e-019, 1.21002629e-028],\n",
       "       [1.00000000e+000, 9.20425739e-015, 4.63370106e-024],\n",
       "       [8.11451730e-103, 8.29958691e-001, 1.70041309e-001],\n",
       "       [7.98102416e-082, 9.98808723e-001, 1.19127720e-003],\n",
       "       [1.00000000e+000, 2.99261223e-014, 4.58397965e-023],\n",
       "       [1.00000000e+000, 4.61758138e-015, 9.79466650e-025],\n",
       "       [4.55350820e-171, 3.76251550e-007, 9.99999624e-001],\n",
       "       [1.69019523e-084, 9.77930702e-001, 2.20692977e-002],\n",
       "       [1.00000000e+000, 1.70697454e-016, 5.28338504e-026],\n",
       "       [7.04187322e-095, 9.76345875e-001, 2.36541250e-002]])"
      ]
     },
     "execution_count": 7,
     "metadata": {},
     "output_type": "execute_result"
    }
   ],
   "source": [
    "modelg.predict_proba(X_test)"
   ]
  },
  {
   "cell_type": "code",
   "execution_count": 8,
   "metadata": {},
   "outputs": [
    {
     "name": "stdout",
     "output_type": "stream",
     "text": [
      "Training Set Score: 0.9523809523809523\n",
      "Test Set Score: 0.9555555555555556\n"
     ]
    }
   ],
   "source": [
    "print('Training Set Score:',modelg.score(X_train,y_train))\n",
    "print('Test Set Score:',modelg.score(X_test,y_test))"
   ]
  },
  {
   "cell_type": "markdown",
   "metadata": {},
   "source": [
    "# Multinomial Naive Bayes\n",
    "主要用在離散變數，比方說次數、類別等等。\n",
    "$$ P(Y_i)=\\frac{N_{Y_i}+\\alpha}{N+K_\\alpha} $$$$ $$$$P(X_j|Y_i)=\\frac{N_{Y_i,x_j}+\\alpha}{N_{Y_i}+n\\alpha} $$"
   ]
  },
  {
   "cell_type": "code",
   "execution_count": 14,
   "metadata": {},
   "outputs": [
    {
     "data": {
      "text/plain": [
       "array([2, 2, 2, 2, 1, 1, 0, 1, 0, 0, 2, 0, 2, 0, 0, 0, 2, 1, 1, 2, 0, 2,\n",
       "       0, 2, 2, 1, 0, 2, 2, 2, 0, 2, 2, 0, 2, 0, 0, 2, 2, 0, 0, 2, 1, 0,\n",
       "       2])"
      ]
     },
     "execution_count": 14,
     "metadata": {},
     "output_type": "execute_result"
    }
   ],
   "source": [
    "modelm=MultinomialNB() # MultinomialNB(alpha=1.0, class_prior=None, fit_prior=True)\n",
    "modelm.fit(X_train,y_train) #alpha預設為1\n",
    "modelm.predict(X_test)"
   ]
  },
  {
   "cell_type": "code",
   "execution_count": 10,
   "metadata": {},
   "outputs": [
    {
     "data": {
      "text/plain": [
       "array([[0.01299652, 0.43310652, 0.55389697],\n",
       "       [0.01102474, 0.44408174, 0.54489352],\n",
       "       [0.00636482, 0.43219805, 0.56143712],\n",
       "       [0.02193628, 0.45379454, 0.52426918],\n",
       "       [0.05696759, 0.48622165, 0.45681076],\n",
       "       [0.08998553, 0.46421484, 0.44579963],\n",
       "       [0.73837117, 0.16510912, 0.09651971],\n",
       "       [0.0676879 , 0.46785211, 0.46445999],\n",
       "       [0.72690742, 0.17436479, 0.09872779],\n",
       "       [0.74432283, 0.16254256, 0.09313462],\n",
       "       [0.02558632, 0.45665205, 0.51776163],\n",
       "       [0.70784646, 0.18241304, 0.1097405 ],\n",
       "       [0.05286655, 0.46483281, 0.48230064],\n",
       "       [0.8219141 , 0.11717488, 0.06091102],\n",
       "       [0.79447892, 0.13442503, 0.07109606],\n",
       "       [0.63280324, 0.22067602, 0.14652074],\n",
       "       [0.00936422, 0.43603189, 0.55460389],\n",
       "       [0.051616  , 0.47673706, 0.47164694],\n",
       "       [0.06195888, 0.47470584, 0.46333528],\n",
       "       [0.02751536, 0.45487577, 0.51760888],\n",
       "       [0.73049274, 0.1697659 , 0.09974136],\n",
       "       [0.03784748, 0.45967267, 0.50247985],\n",
       "       [0.69372858, 0.18973577, 0.11653565],\n",
       "       [0.00778771, 0.42563808, 0.56657421],\n",
       "       [0.01776802, 0.45302996, 0.52920202],\n",
       "       [0.10198729, 0.45339808, 0.44461462],\n",
       "       [0.69453958, 0.19046848, 0.11499194],\n",
       "       [0.01589016, 0.45233377, 0.53177607],\n",
       "       [0.04010194, 0.46635332, 0.49354474],\n",
       "       [0.01953382, 0.43230967, 0.54815651],\n",
       "       [0.75770208, 0.15508158, 0.08721635],\n",
       "       [0.04905878, 0.47395005, 0.47699117],\n",
       "       [0.00760687, 0.45194138, 0.54045175],\n",
       "       [0.6683605 , 0.2032538 , 0.12838571],\n",
       "       [0.01368964, 0.46037806, 0.5259323 ],\n",
       "       [0.78522736, 0.13603953, 0.07873311],\n",
       "       [0.63926748, 0.22022912, 0.1405034 ],\n",
       "       [0.04046261, 0.47706304, 0.48247435],\n",
       "       [0.04612511, 0.46666082, 0.48721407],\n",
       "       [0.69297689, 0.19259263, 0.11443048],\n",
       "       [0.63420185, 0.22142547, 0.14437268],\n",
       "       [0.01006239, 0.4326631 , 0.55727451],\n",
       "       [0.05817221, 0.47884213, 0.46298566],\n",
       "       [0.72340969, 0.17306557, 0.10352474],\n",
       "       [0.04026744, 0.46969482, 0.49003775]])"
      ]
     },
     "execution_count": 10,
     "metadata": {},
     "output_type": "execute_result"
    }
   ],
   "source": [
    "modelm.predict_proba(X_test)"
   ]
  },
  {
   "cell_type": "code",
   "execution_count": 11,
   "metadata": {},
   "outputs": [
    {
     "name": "stdout",
     "output_type": "stream",
     "text": [
      "Training Set Score: 0.8380952380952381\n",
      "Test Set Score: 0.8\n"
     ]
    }
   ],
   "source": [
    "print('Training Set Score:',modelm.score(X_train,y_train))\n",
    "print('Test Set Score:',modelm.score(X_test,y_test))"
   ]
  },
  {
   "cell_type": "markdown",
   "metadata": {},
   "source": [
    "# Bernoulli Naive Bayes\n",
    "用在二元的特徵，比方說特徵是否出現、特徵大小、特徵長短等等這種二元的分類。\n",
    "$$ P(X_j|Y_i)=P_{Y_i}^{X_j}(1-P_{Y_i})^{X_j} $$"
   ]
  },
  {
   "cell_type": "code",
   "execution_count": 12,
   "metadata": {},
   "outputs": [
    {
     "data": {
      "text/plain": [
       "array([2, 2, 2, 2, 2, 2, 2, 2, 2, 2, 2, 2, 2, 2, 2, 2, 2, 2, 2, 2, 2, 2,\n",
       "       2, 2, 2, 2, 2, 2, 2, 2, 2, 2, 2, 2, 2, 2, 2, 2, 2, 2, 2, 2, 2, 2,\n",
       "       2])"
      ]
     },
     "execution_count": 12,
     "metadata": {},
     "output_type": "execute_result"
    }
   ],
   "source": [
    "modelb = BernoulliNB()\n",
    "modelb.fit(X_train,y_train)\n",
    "modelb.predict(X_test)"
   ]
  },
  {
   "cell_type": "code",
   "execution_count": 15,
   "metadata": {},
   "outputs": [
    {
     "data": {
      "text/plain": [
       "array([2, 2, 2, 2, 2, 2, 0, 2, 0, 0, 2, 0, 2, 0, 0, 0, 2, 2, 2, 2, 0, 2,\n",
       "       0, 2, 2, 0, 0, 2, 2, 2, 0, 2, 2, 0, 2, 0, 0, 2, 2, 0, 0, 2, 2, 0,\n",
       "       2])"
      ]
     },
     "execution_count": 15,
     "metadata": {},
     "output_type": "execute_result"
    }
   ],
   "source": [
    "modelb = BernoulliNB(binarize=1) #特徵切分 設1拆成0與1\n",
    "modelb.fit(X_train,y_train)\n",
    "modelb.predict(X_test)"
   ]
  },
  {
   "cell_type": "code",
   "execution_count": 16,
   "metadata": {},
   "outputs": [
    {
     "data": {
      "text/plain": [
       "0.6444444444444445"
      ]
     },
     "execution_count": 16,
     "metadata": {},
     "output_type": "execute_result"
    }
   ],
   "source": [
    "modelb.score(X_test,y_test)"
   ]
  },
  {
   "cell_type": "code",
   "execution_count": 17,
   "metadata": {},
   "outputs": [
    {
     "data": {
      "text/html": [
       "<div>\n",
       "<style scoped>\n",
       "    .dataframe tbody tr th:only-of-type {\n",
       "        vertical-align: middle;\n",
       "    }\n",
       "\n",
       "    .dataframe tbody tr th {\n",
       "        vertical-align: top;\n",
       "    }\n",
       "\n",
       "    .dataframe thead th {\n",
       "        text-align: right;\n",
       "    }\n",
       "</style>\n",
       "<table border=\"1\" class=\"dataframe\">\n",
       "  <thead>\n",
       "    <tr style=\"text-align: right;\">\n",
       "      <th></th>\n",
       "      <th>0</th>\n",
       "      <th>1</th>\n",
       "      <th>2</th>\n",
       "      <th>3</th>\n",
       "    </tr>\n",
       "  </thead>\n",
       "  <tbody>\n",
       "    <tr>\n",
       "      <th>count</th>\n",
       "      <td>150.000000</td>\n",
       "      <td>150.000000</td>\n",
       "      <td>150.000000</td>\n",
       "      <td>150.000000</td>\n",
       "    </tr>\n",
       "    <tr>\n",
       "      <th>mean</th>\n",
       "      <td>5.843333</td>\n",
       "      <td>3.057333</td>\n",
       "      <td>3.758000</td>\n",
       "      <td>1.199333</td>\n",
       "    </tr>\n",
       "    <tr>\n",
       "      <th>std</th>\n",
       "      <td>0.828066</td>\n",
       "      <td>0.435866</td>\n",
       "      <td>1.765298</td>\n",
       "      <td>0.762238</td>\n",
       "    </tr>\n",
       "    <tr>\n",
       "      <th>min</th>\n",
       "      <td>4.300000</td>\n",
       "      <td>2.000000</td>\n",
       "      <td>1.000000</td>\n",
       "      <td>0.100000</td>\n",
       "    </tr>\n",
       "    <tr>\n",
       "      <th>25%</th>\n",
       "      <td>5.100000</td>\n",
       "      <td>2.800000</td>\n",
       "      <td>1.600000</td>\n",
       "      <td>0.300000</td>\n",
       "    </tr>\n",
       "    <tr>\n",
       "      <th>50%</th>\n",
       "      <td>5.800000</td>\n",
       "      <td>3.000000</td>\n",
       "      <td>4.350000</td>\n",
       "      <td>1.300000</td>\n",
       "    </tr>\n",
       "    <tr>\n",
       "      <th>75%</th>\n",
       "      <td>6.400000</td>\n",
       "      <td>3.300000</td>\n",
       "      <td>5.100000</td>\n",
       "      <td>1.800000</td>\n",
       "    </tr>\n",
       "    <tr>\n",
       "      <th>max</th>\n",
       "      <td>7.900000</td>\n",
       "      <td>4.400000</td>\n",
       "      <td>6.900000</td>\n",
       "      <td>2.500000</td>\n",
       "    </tr>\n",
       "  </tbody>\n",
       "</table>\n",
       "</div>"
      ],
      "text/plain": [
       "                0           1           2           3\n",
       "count  150.000000  150.000000  150.000000  150.000000\n",
       "mean     5.843333    3.057333    3.758000    1.199333\n",
       "std      0.828066    0.435866    1.765298    0.762238\n",
       "min      4.300000    2.000000    1.000000    0.100000\n",
       "25%      5.100000    2.800000    1.600000    0.300000\n",
       "50%      5.800000    3.000000    4.350000    1.300000\n",
       "75%      6.400000    3.300000    5.100000    1.800000\n",
       "max      7.900000    4.400000    6.900000    2.500000"
      ]
     },
     "execution_count": 17,
     "metadata": {},
     "output_type": "execute_result"
    }
   ],
   "source": [
    "X=pd.DataFrame(X)\n",
    "X.describe() #4個特徵個別差異"
   ]
  },
  {
   "cell_type": "code",
   "execution_count": 18,
   "metadata": {},
   "outputs": [
    {
     "data": {
      "text/plain": [
       "array([2, 2, 2, 2, 2, 1, 0, 1, 0, 0, 2, 0, 1, 0, 0, 1, 2, 2, 1, 2, 0, 2,\n",
       "       0, 2, 2, 1, 0, 2, 2, 2, 0, 1, 2, 1, 2, 0, 1, 2, 1, 0, 1, 2, 2, 0,\n",
       "       2])"
      ]
     },
     "execution_count": 18,
     "metadata": {},
     "output_type": "execute_result"
    }
   ],
   "source": [
    "modelb = BernoulliNB(binarize=[5.8,3,4.35,1.3]) #中位數拆分\n",
    "modelb.fit(X_train,y_train)\n",
    "modelb.predict(X_test)"
   ]
  },
  {
   "cell_type": "code",
   "execution_count": 19,
   "metadata": {},
   "outputs": [
    {
     "data": {
      "text/plain": [
       "array([[6.43073980e-04, 4.16805382e-01, 5.82551544e-01],\n",
       "       [7.91385636e-05, 5.20131944e-02, 9.47907667e-01],\n",
       "       [7.91385636e-05, 5.20131944e-02, 9.47907667e-01],\n",
       "       [4.24954940e-06, 8.37894809e-02, 9.16206270e-01],\n",
       "       [7.91385636e-05, 5.20131944e-02, 9.47907667e-01],\n",
       "       [4.47625622e-01, 5.52143756e-01, 2.30622306e-04],\n",
       "       [9.60480910e-01, 3.94915982e-02, 2.74917639e-05],\n",
       "       [4.47625622e-01, 5.52143756e-01, 2.30622306e-04],\n",
       "       [9.60480910e-01, 3.94915982e-02, 2.74917639e-05],\n",
       "       [9.60480910e-01, 3.94915982e-02, 2.74917639e-05],\n",
       "       [7.91385636e-05, 5.20131944e-02, 9.47907667e-01],\n",
       "       [9.60480910e-01, 3.94915982e-02, 2.74917639e-05],\n",
       "       [4.47625622e-01, 5.52143756e-01, 2.30622306e-04],\n",
       "       [9.60480910e-01, 3.94915982e-02, 2.74917639e-05],\n",
       "       [9.60480910e-01, 3.94915982e-02, 2.74917639e-05],\n",
       "       [4.47625622e-01, 5.52143756e-01, 2.30622306e-04],\n",
       "       [4.24954940e-06, 8.37894809e-02, 9.16206270e-01],\n",
       "       [7.91385636e-05, 5.20131944e-02, 9.47907667e-01],\n",
       "       [2.58753485e-02, 9.70951802e-01, 3.17284997e-03],\n",
       "       [4.24954940e-06, 8.37894809e-02, 9.16206270e-01],\n",
       "       [9.60480910e-01, 3.94915982e-02, 2.74917639e-05],\n",
       "       [6.43073980e-04, 4.16805382e-01, 5.82551544e-01],\n",
       "       [9.60480910e-01, 3.94915982e-02, 2.74917639e-05],\n",
       "       [7.91385636e-05, 5.20131944e-02, 9.47907667e-01],\n",
       "       [7.91385636e-05, 5.20131944e-02, 9.47907667e-01],\n",
       "       [4.47625622e-01, 5.52143756e-01, 2.30622306e-04],\n",
       "       [9.60480910e-01, 3.94915982e-02, 2.74917639e-05],\n",
       "       [7.91385636e-05, 5.20131944e-02, 9.47907667e-01],\n",
       "       [4.24954940e-06, 8.37894809e-02, 9.16206270e-01],\n",
       "       [6.43073980e-04, 4.16805382e-01, 5.82551544e-01],\n",
       "       [9.60480910e-01, 3.94915982e-02, 2.74917639e-05],\n",
       "       [9.30321763e-04, 8.47804127e-01, 1.51265551e-01],\n",
       "       [7.91385636e-05, 5.20131944e-02, 9.47907667e-01],\n",
       "       [4.47625622e-01, 5.52143756e-01, 2.30622306e-04],\n",
       "       [7.91385636e-05, 5.20131944e-02, 9.47907667e-01],\n",
       "       [9.60480910e-01, 3.94915982e-02, 2.74917639e-05],\n",
       "       [4.47625622e-01, 5.52143756e-01, 2.30622306e-04],\n",
       "       [4.24954940e-06, 8.37894809e-02, 9.16206270e-01],\n",
       "       [3.16060946e-02, 9.46801515e-01, 2.15923908e-02],\n",
       "       [9.60480910e-01, 3.94915982e-02, 2.74917639e-05],\n",
       "       [4.47625622e-01, 5.52143756e-01, 2.30622306e-04],\n",
       "       [7.91385636e-05, 5.20131944e-02, 9.47907667e-01],\n",
       "       [4.24954940e-06, 8.37894809e-02, 9.16206270e-01],\n",
       "       [9.60480910e-01, 3.94915982e-02, 2.74917639e-05],\n",
       "       [4.24954940e-06, 8.37894809e-02, 9.16206270e-01]])"
      ]
     },
     "execution_count": 19,
     "metadata": {},
     "output_type": "execute_result"
    }
   ],
   "source": [
    "modelb.predict_proba(X_test)"
   ]
  },
  {
   "cell_type": "code",
   "execution_count": 20,
   "metadata": {},
   "outputs": [
    {
     "name": "stdout",
     "output_type": "stream",
     "text": [
      "Training Set Score: 0.8571428571428571\n",
      "Test Set Score: 0.7111111111111111\n"
     ]
    }
   ],
   "source": [
    "print('Training Set Score:',modelb.score(X_train,y_train))\n",
    "print('Test Set Score:',modelb.score(X_test,y_test))"
   ]
  },
  {
   "cell_type": "code",
   "execution_count": null,
   "metadata": {},
   "outputs": [],
   "source": []
  }
 ],
 "metadata": {
  "kernelspec": {
   "display_name": "Python 3",
   "language": "python",
   "name": "python3"
  },
  "language_info": {
   "codemirror_mode": {
    "name": "ipython",
    "version": 3
   },
   "file_extension": ".py",
   "mimetype": "text/x-python",
   "name": "python",
   "nbconvert_exporter": "python",
   "pygments_lexer": "ipython3",
   "version": "3.7.6"
  }
 },
 "nbformat": 4,
 "nbformat_minor": 4
}
